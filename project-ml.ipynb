{
 "cells": [
  {
   "cell_type": "markdown",
   "metadata": {
    "toc": true
   },
   "source": [
    "<h1>Содержание<span class=\"tocSkip\"></span></h1>\n",
    "<div class=\"toc\"><ul class=\"toc-item\"><li><span><a href=\"#Подготовка-данных\" data-toc-modified-id=\"Подготовка-данных-1\"><span class=\"toc-item-num\">1&nbsp;&nbsp;</span>Подготовка данных</a></span></li><li><span><a href=\"#Исследование-задачи\" data-toc-modified-id=\"Исследование-задачи-2\"><span class=\"toc-item-num\">2&nbsp;&nbsp;</span>Исследование задачи</a></span></li><li><span><a href=\"#Борьба-с-дисбалансом\" data-toc-modified-id=\"Борьба-с-дисбалансом-3\"><span class=\"toc-item-num\">3&nbsp;&nbsp;</span>Борьба с дисбалансом</a></span></li><li><span><a href=\"#Тестирование-модели\" data-toc-modified-id=\"Тестирование-модели-4\"><span class=\"toc-item-num\">4&nbsp;&nbsp;</span>Тестирование модели</a></span><ul class=\"toc-item\"><li><span><a href=\"#ОБЩИЕ-ВЫВОДЫ\" data-toc-modified-id=\"ОБЩИЕ-ВЫВОДЫ-4.1\"><span class=\"toc-item-num\">4.1&nbsp;&nbsp;</span>ОБЩИЕ ВЫВОДЫ</a></span></li></ul></li><li><span><a href=\"#Чек-лист-готовности-проекта\" data-toc-modified-id=\"Чек-лист-готовности-проекта-5\"><span class=\"toc-item-num\">5&nbsp;&nbsp;</span>Чек-лист готовности проекта</a></span></li></ul></div>"
   ]
  },
  {
   "cell_type": "markdown",
   "metadata": {},
   "source": [
    "# Отток клиентов"
   ]
  },
  {
   "cell_type": "markdown",
   "metadata": {},
   "source": [
    "Из «Бета-Банка» стали уходить клиенты. Каждый месяц. Немного, но заметно. Банковские маркетологи посчитали: сохранять текущих клиентов дешевле, чем привлекать новых.\n",
    "\n",
    "Нужно спрогнозировать, уйдёт клиент из банка в ближайшее время или нет. Вам предоставлены исторические данные о поведении клиентов и расторжении договоров с банком. \n",
    "\n",
    "Постройте модель с предельно большим значением *F1*-меры. Чтобы сдать проект успешно, нужно довести метрику до 0.59. Проверьте *F1*-меру на тестовой выборке самостоятельно.\n",
    "\n",
    "Дополнительно измеряйте *AUC-ROC*, сравнивайте её значение с *F1*-мерой.\n",
    "\n",
    "Источник данных: [https://www.kaggle.com/barelydedicated/bank-customer-churn-modeling](https://www.kaggle.com/barelydedicated/bank-customer-churn-modeling)"
   ]
  },
  {
   "cell_type": "markdown",
   "metadata": {},
   "source": [
    "## Подготовка данных"
   ]
  },
  {
   "cell_type": "code",
   "execution_count": 1,
   "metadata": {
    "scrolled": false
   },
   "outputs": [
    {
     "name": "stdout",
     "output_type": "stream",
     "text": [
      "<class 'pandas.core.frame.DataFrame'>\n",
      "RangeIndex: 10000 entries, 0 to 9999\n",
      "Data columns (total 14 columns):\n",
      " #   Column           Non-Null Count  Dtype  \n",
      "---  ------           --------------  -----  \n",
      " 0   RowNumber        10000 non-null  int64  \n",
      " 1   CustomerId       10000 non-null  int64  \n",
      " 2   Surname          10000 non-null  object \n",
      " 3   CreditScore      10000 non-null  int64  \n",
      " 4   Geography        10000 non-null  object \n",
      " 5   Gender           10000 non-null  object \n",
      " 6   Age              10000 non-null  int64  \n",
      " 7   Tenure           9091 non-null   float64\n",
      " 8   Balance          10000 non-null  float64\n",
      " 9   NumOfProducts    10000 non-null  int64  \n",
      " 10  HasCrCard        10000 non-null  int64  \n",
      " 11  IsActiveMember   10000 non-null  int64  \n",
      " 12  EstimatedSalary  10000 non-null  float64\n",
      " 13  Exited           10000 non-null  int64  \n",
      "dtypes: float64(3), int64(8), object(3)\n",
      "memory usage: 1.1+ MB\n"
     ]
    },
    {
     "data": {
      "text/html": [
       "<div>\n",
       "<style scoped>\n",
       "    .dataframe tbody tr th:only-of-type {\n",
       "        vertical-align: middle;\n",
       "    }\n",
       "\n",
       "    .dataframe tbody tr th {\n",
       "        vertical-align: top;\n",
       "    }\n",
       "\n",
       "    .dataframe thead th {\n",
       "        text-align: right;\n",
       "    }\n",
       "</style>\n",
       "<table border=\"1\" class=\"dataframe\">\n",
       "  <thead>\n",
       "    <tr style=\"text-align: right;\">\n",
       "      <th></th>\n",
       "      <th>RowNumber</th>\n",
       "      <th>CustomerId</th>\n",
       "      <th>Surname</th>\n",
       "      <th>CreditScore</th>\n",
       "      <th>Geography</th>\n",
       "      <th>Gender</th>\n",
       "      <th>Age</th>\n",
       "      <th>Tenure</th>\n",
       "      <th>Balance</th>\n",
       "      <th>NumOfProducts</th>\n",
       "      <th>HasCrCard</th>\n",
       "      <th>IsActiveMember</th>\n",
       "      <th>EstimatedSalary</th>\n",
       "      <th>Exited</th>\n",
       "    </tr>\n",
       "  </thead>\n",
       "  <tbody>\n",
       "    <tr>\n",
       "      <th>0</th>\n",
       "      <td>1</td>\n",
       "      <td>15634602</td>\n",
       "      <td>Hargrave</td>\n",
       "      <td>619</td>\n",
       "      <td>France</td>\n",
       "      <td>Female</td>\n",
       "      <td>42</td>\n",
       "      <td>2.0</td>\n",
       "      <td>0.00</td>\n",
       "      <td>1</td>\n",
       "      <td>1</td>\n",
       "      <td>1</td>\n",
       "      <td>101348.88</td>\n",
       "      <td>1</td>\n",
       "    </tr>\n",
       "    <tr>\n",
       "      <th>1</th>\n",
       "      <td>2</td>\n",
       "      <td>15647311</td>\n",
       "      <td>Hill</td>\n",
       "      <td>608</td>\n",
       "      <td>Spain</td>\n",
       "      <td>Female</td>\n",
       "      <td>41</td>\n",
       "      <td>1.0</td>\n",
       "      <td>83807.86</td>\n",
       "      <td>1</td>\n",
       "      <td>0</td>\n",
       "      <td>1</td>\n",
       "      <td>112542.58</td>\n",
       "      <td>0</td>\n",
       "    </tr>\n",
       "    <tr>\n",
       "      <th>2</th>\n",
       "      <td>3</td>\n",
       "      <td>15619304</td>\n",
       "      <td>Onio</td>\n",
       "      <td>502</td>\n",
       "      <td>France</td>\n",
       "      <td>Female</td>\n",
       "      <td>42</td>\n",
       "      <td>8.0</td>\n",
       "      <td>159660.80</td>\n",
       "      <td>3</td>\n",
       "      <td>1</td>\n",
       "      <td>0</td>\n",
       "      <td>113931.57</td>\n",
       "      <td>1</td>\n",
       "    </tr>\n",
       "    <tr>\n",
       "      <th>3</th>\n",
       "      <td>4</td>\n",
       "      <td>15701354</td>\n",
       "      <td>Boni</td>\n",
       "      <td>699</td>\n",
       "      <td>France</td>\n",
       "      <td>Female</td>\n",
       "      <td>39</td>\n",
       "      <td>1.0</td>\n",
       "      <td>0.00</td>\n",
       "      <td>2</td>\n",
       "      <td>0</td>\n",
       "      <td>0</td>\n",
       "      <td>93826.63</td>\n",
       "      <td>0</td>\n",
       "    </tr>\n",
       "    <tr>\n",
       "      <th>4</th>\n",
       "      <td>5</td>\n",
       "      <td>15737888</td>\n",
       "      <td>Mitchell</td>\n",
       "      <td>850</td>\n",
       "      <td>Spain</td>\n",
       "      <td>Female</td>\n",
       "      <td>43</td>\n",
       "      <td>2.0</td>\n",
       "      <td>125510.82</td>\n",
       "      <td>1</td>\n",
       "      <td>1</td>\n",
       "      <td>1</td>\n",
       "      <td>79084.10</td>\n",
       "      <td>0</td>\n",
       "    </tr>\n",
       "  </tbody>\n",
       "</table>\n",
       "</div>"
      ],
      "text/plain": [
       "   RowNumber  CustomerId   Surname  CreditScore Geography  Gender  Age  \\\n",
       "0          1    15634602  Hargrave          619    France  Female   42   \n",
       "1          2    15647311      Hill          608     Spain  Female   41   \n",
       "2          3    15619304      Onio          502    France  Female   42   \n",
       "3          4    15701354      Boni          699    France  Female   39   \n",
       "4          5    15737888  Mitchell          850     Spain  Female   43   \n",
       "\n",
       "   Tenure    Balance  NumOfProducts  HasCrCard  IsActiveMember  \\\n",
       "0     2.0       0.00              1          1               1   \n",
       "1     1.0   83807.86              1          0               1   \n",
       "2     8.0  159660.80              3          1               0   \n",
       "3     1.0       0.00              2          0               0   \n",
       "4     2.0  125510.82              1          1               1   \n",
       "\n",
       "   EstimatedSalary  Exited  \n",
       "0        101348.88       1  \n",
       "1        112542.58       0  \n",
       "2        113931.57       1  \n",
       "3         93826.63       0  \n",
       "4         79084.10       0  "
      ]
     },
     "execution_count": 1,
     "metadata": {},
     "output_type": "execute_result"
    }
   ],
   "source": [
    "import pandas as pd\n",
    "import numpy as np\n",
    "import matplotlib.pyplot as plt\n",
    "from sklearn.model_selection import train_test_split\n",
    "from sklearn.utils import shuffle\n",
    "from sklearn.linear_model import LogisticRegression\n",
    "from sklearn.tree import DecisionTreeClassifier\n",
    "from sklearn.ensemble import RandomForestClassifier\n",
    "from sklearn.metrics import f1_score, precision_score, recall_score, roc_curve, roc_auc_score\n",
    "from sklearn.preprocessing import StandardScaler, OneHotEncoder\n",
    "from sklearn.utils import shuffle\n",
    "pd.options.mode.chained_assignment = None\n",
    "\n",
    "\n",
    "data = pd.read_csv('/datasets/Churn.csv')\n",
    "data.info()\n",
    "data.head()\n"
   ]
  },
  {
   "cell_type": "markdown",
   "metadata": {},
   "source": [
    "Данные выглядят красиво, кроме столбца Tenure с пропусками, а некоторые столбцы кажутся бесполезными (RowNumber, CustomerId).\n",
    "\n",
    "Типы данных в столбцах соответствуют природе этих данных, преобразования не требуются."
   ]
  },
  {
   "cell_type": "code",
   "execution_count": 2,
   "metadata": {},
   "outputs": [
    {
     "data": {
      "text/plain": [
       "count    9091.000000\n",
       "mean        4.997690\n",
       "std         2.894723\n",
       "min         0.000000\n",
       "25%         2.000000\n",
       "50%         5.000000\n",
       "75%         7.000000\n",
       "max        10.000000\n",
       "Name: Tenure, dtype: float64"
      ]
     },
     "execution_count": 2,
     "metadata": {},
     "output_type": "execute_result"
    }
   ],
   "source": [
    "data['Tenure'].describe() #до заполнения медианой"
   ]
  },
  {
   "cell_type": "code",
   "execution_count": 3,
   "metadata": {},
   "outputs": [
    {
     "name": "stdout",
     "output_type": "stream",
     "text": [
      "<class 'pandas.core.frame.DataFrame'>\n",
      "RangeIndex: 10000 entries, 0 to 9999\n",
      "Data columns (total 11 columns):\n",
      " #   Column           Non-Null Count  Dtype  \n",
      "---  ------           --------------  -----  \n",
      " 0   CreditScore      10000 non-null  int64  \n",
      " 1   Geography        10000 non-null  object \n",
      " 2   Gender           10000 non-null  object \n",
      " 3   Age              10000 non-null  int64  \n",
      " 4   Tenure           10000 non-null  float64\n",
      " 5   Balance          10000 non-null  float64\n",
      " 6   NumOfProducts    10000 non-null  int64  \n",
      " 7   HasCrCard        10000 non-null  int64  \n",
      " 8   IsActiveMember   10000 non-null  int64  \n",
      " 9   EstimatedSalary  10000 non-null  float64\n",
      " 10  Exited           10000 non-null  int64  \n",
      "dtypes: float64(3), int64(6), object(2)\n",
      "memory usage: 859.5+ KB\n"
     ]
    },
    {
     "data": {
      "text/plain": [
       "count    10000.00000\n",
       "mean         4.99790\n",
       "std          2.76001\n",
       "min          0.00000\n",
       "25%          3.00000\n",
       "50%          5.00000\n",
       "75%          7.00000\n",
       "max         10.00000\n",
       "Name: Tenure, dtype: float64"
      ]
     },
     "execution_count": 3,
     "metadata": {},
     "output_type": "execute_result"
    }
   ],
   "source": [
    "# приступим к предобработке данных\n",
    "data.duplicated().sum() #дубликатов нет, отлично\n",
    "data['CustomerId'].duplicated().sum()\n",
    "data['Tenure'].value_counts()\n",
    "\n",
    "# тяжело определить, какие факторы влияют на продолжительность обслуживания того или иного клиента в нашем банке.\n",
    "# даже в первых пяти строках есть уходы как среди относительно новых клиентов (2 года), так и среди старых (8 лет).\n",
    "# поэтому заменим пропущенные значения медианой\n",
    "\n",
    "median_tenure = data['Tenure'].median()\n",
    "median_tenure\n",
    "data['Tenure'] = data['Tenure'].fillna(median_tenure)\n",
    "\n",
    "df = data.drop(['RowNumber', 'CustomerId', 'Surname'], axis='columns')\n",
    "\n",
    "df.info()\n",
    "df['Tenure'].describe()\n",
    "\n",
    "#пропусков нет, типы данных в норме, предобработка окончена"
   ]
  },
  {
   "cell_type": "markdown",
   "metadata": {},
   "source": [
    "## Исследование задачи"
   ]
  },
  {
   "cell_type": "code",
   "execution_count": 4,
   "metadata": {},
   "outputs": [
    {
     "data": {
      "image/png": "[encoded data removed]",
      "text/plain": [
       "<Figure size 432x288 with 1 Axes>"
      ]
     },
     "metadata": {
      "needs_background": "light"
     },
     "output_type": "display_data"
    }
   ],
   "source": [
    "df['Exited'].value_counts()\n",
    "\n",
    "df['Exited'].hist(bins=2)\n",
    "plt.show()\n",
    "# видим сильный дисбаланс ключевого признака"
   ]
  },
  {
   "cell_type": "code",
   "execution_count": 5,
   "metadata": {},
   "outputs": [
    {
     "name": "stdout",
     "output_type": "stream",
     "text": [
      "<class 'pandas.core.frame.DataFrame'>\n",
      "RangeIndex: 10000 entries, 0 to 9999\n",
      "Data columns (total 12 columns):\n",
      " #   Column             Non-Null Count  Dtype  \n",
      "---  ------             --------------  -----  \n",
      " 0   CreditScore        10000 non-null  int64  \n",
      " 1   Age                10000 non-null  int64  \n",
      " 2   Tenure             10000 non-null  float64\n",
      " 3   Balance            10000 non-null  float64\n",
      " 4   NumOfProducts      10000 non-null  int64  \n",
      " 5   HasCrCard          10000 non-null  int64  \n",
      " 6   IsActiveMember     10000 non-null  int64  \n",
      " 7   EstimatedSalary    10000 non-null  float64\n",
      " 8   Exited             10000 non-null  int64  \n",
      " 9   Geography_Germany  10000 non-null  uint8  \n",
      " 10  Geography_Spain    10000 non-null  uint8  \n",
      " 11  Gender_Male        10000 non-null  uint8  \n",
      "dtypes: float64(3), int64(6), uint8(3)\n",
      "memory usage: 732.5 KB\n",
      "(6000, 11)\n",
      "(2000, 11)\n",
      "(2000, 11)\n"
     ]
    }
   ],
   "source": [
    "# разобьем данные на выборки и начнем готовить признаки\n",
    "\n",
    "df = pd.get_dummies(df, drop_first=True)\n",
    "df.info()\n",
    "df.head(10)\n",
    "\n",
    "target = df['Exited']\n",
    "features = df.drop('Exited', axis=1)\n",
    "\n",
    "features_train, features_test, target_train, target_test = train_test_split(\n",
    "    features, target, train_size=0.6, random_state=12345)\n",
    "\n",
    "features_test, features_valid, target_test, target_valid = train_test_split(features_test, target_test, train_size=0.5, random_state=12345)\n",
    "\n",
    "print(features_train.shape)\n",
    "print(features_test.shape)\n",
    "print(features_valid.shape)"
   ]
  },
  {
   "cell_type": "code",
   "execution_count": 6,
   "metadata": {},
   "outputs": [
    {
     "name": "stdout",
     "output_type": "stream",
     "text": [
      "<class 'pandas.core.frame.DataFrame'>\n",
      "RangeIndex: 10000 entries, 0 to 9999\n",
      "Data columns (total 12 columns):\n",
      " #   Column             Non-Null Count  Dtype  \n",
      "---  ------             --------------  -----  \n",
      " 0   CreditScore        10000 non-null  int64  \n",
      " 1   Age                10000 non-null  int64  \n",
      " 2   Tenure             10000 non-null  float64\n",
      " 3   Balance            10000 non-null  float64\n",
      " 4   NumOfProducts      10000 non-null  int64  \n",
      " 5   HasCrCard          10000 non-null  int64  \n",
      " 6   IsActiveMember     10000 non-null  int64  \n",
      " 7   EstimatedSalary    10000 non-null  float64\n",
      " 8   Exited             10000 non-null  int64  \n",
      " 9   Geography_Germany  10000 non-null  uint8  \n",
      " 10  Geography_Spain    10000 non-null  uint8  \n",
      " 11  Gender_Male        10000 non-null  uint8  \n",
      "dtypes: float64(3), int64(6), uint8(3)\n",
      "memory usage: 732.5 KB\n"
     ]
    }
   ],
   "source": [
    "df.info()"
   ]
  },
  {
   "cell_type": "code",
   "execution_count": 7,
   "metadata": {},
   "outputs": [
    {
     "data": {
      "text/html": [
       "<div>\n",
       "<style scoped>\n",
       "    .dataframe tbody tr th:only-of-type {\n",
       "        vertical-align: middle;\n",
       "    }\n",
       "\n",
       "    .dataframe tbody tr th {\n",
       "        vertical-align: top;\n",
       "    }\n",
       "\n",
       "    .dataframe thead th {\n",
       "        text-align: right;\n",
       "    }\n",
       "</style>\n",
       "<table border=\"1\" class=\"dataframe\">\n",
       "  <thead>\n",
       "    <tr style=\"text-align: right;\">\n",
       "      <th></th>\n",
       "      <th>CreditScore</th>\n",
       "      <th>Age</th>\n",
       "      <th>Tenure</th>\n",
       "      <th>Balance</th>\n",
       "      <th>NumOfProducts</th>\n",
       "      <th>HasCrCard</th>\n",
       "      <th>IsActiveMember</th>\n",
       "      <th>EstimatedSalary</th>\n",
       "      <th>Geography_Germany</th>\n",
       "      <th>Geography_Spain</th>\n",
       "      <th>Gender_Male</th>\n",
       "    </tr>\n",
       "  </thead>\n",
       "  <tbody>\n",
       "    <tr>\n",
       "      <th>7479</th>\n",
       "      <td>-0.886751</td>\n",
       "      <td>35</td>\n",
       "      <td>8.0</td>\n",
       "      <td>1.232271</td>\n",
       "      <td>1</td>\n",
       "      <td>1</td>\n",
       "      <td>0</td>\n",
       "      <td>-0.187705</td>\n",
       "      <td>0</td>\n",
       "      <td>1</td>\n",
       "      <td>1</td>\n",
       "    </tr>\n",
       "    <tr>\n",
       "      <th>3411</th>\n",
       "      <td>0.608663</td>\n",
       "      <td>37</td>\n",
       "      <td>8.0</td>\n",
       "      <td>0.600563</td>\n",
       "      <td>1</td>\n",
       "      <td>0</td>\n",
       "      <td>0</td>\n",
       "      <td>-0.333945</td>\n",
       "      <td>0</td>\n",
       "      <td>0</td>\n",
       "      <td>0</td>\n",
       "    </tr>\n",
       "    <tr>\n",
       "      <th>6027</th>\n",
       "      <td>2.052152</td>\n",
       "      <td>44</td>\n",
       "      <td>3.0</td>\n",
       "      <td>1.027098</td>\n",
       "      <td>2</td>\n",
       "      <td>0</td>\n",
       "      <td>1</td>\n",
       "      <td>1.503095</td>\n",
       "      <td>1</td>\n",
       "      <td>0</td>\n",
       "      <td>1</td>\n",
       "    </tr>\n",
       "    <tr>\n",
       "      <th>1247</th>\n",
       "      <td>-1.457915</td>\n",
       "      <td>24</td>\n",
       "      <td>6.0</td>\n",
       "      <td>-1.233163</td>\n",
       "      <td>2</td>\n",
       "      <td>1</td>\n",
       "      <td>0</td>\n",
       "      <td>-1.071061</td>\n",
       "      <td>0</td>\n",
       "      <td>0</td>\n",
       "      <td>1</td>\n",
       "    </tr>\n",
       "    <tr>\n",
       "      <th>3716</th>\n",
       "      <td>0.130961</td>\n",
       "      <td>27</td>\n",
       "      <td>2.0</td>\n",
       "      <td>1.140475</td>\n",
       "      <td>1</td>\n",
       "      <td>0</td>\n",
       "      <td>0</td>\n",
       "      <td>1.524268</td>\n",
       "      <td>1</td>\n",
       "      <td>0</td>\n",
       "      <td>0</td>\n",
       "    </tr>\n",
       "  </tbody>\n",
       "</table>\n",
       "</div>"
      ],
      "text/plain": [
       "      CreditScore  Age  Tenure   Balance  NumOfProducts  HasCrCard  \\\n",
       "7479    -0.886751   35     8.0  1.232271              1          1   \n",
       "3411     0.608663   37     8.0  0.600563              1          0   \n",
       "6027     2.052152   44     3.0  1.027098              2          0   \n",
       "1247    -1.457915   24     6.0 -1.233163              2          1   \n",
       "3716     0.130961   27     2.0  1.140475              1          0   \n",
       "\n",
       "      IsActiveMember  EstimatedSalary  Geography_Germany  Geography_Spain  \\\n",
       "7479               0        -0.187705                  0                1   \n",
       "3411               0        -0.333945                  0                0   \n",
       "6027               1         1.503095                  1                0   \n",
       "1247               0        -1.071061                  0                0   \n",
       "3716               0         1.524268                  1                0   \n",
       "\n",
       "      Gender_Male  \n",
       "7479            1  \n",
       "3411            0  \n",
       "6027            1  \n",
       "1247            1  \n",
       "3716            0  "
      ]
     },
     "execution_count": 7,
     "metadata": {},
     "output_type": "execute_result"
    }
   ],
   "source": [
    "#ohe_df = ['Gender', 'Geography']\n",
    "#ohe = OneHotEncoder(categories=[ohe_df], drop='first')\n",
    "#ohe.fit(features_train)\n",
    "#features_train = ohe.transform(features_train[ohe_df])\n",
    "#features_test[ohe_df] = ohe.transform(features_test[ohe_df])\n",
    "#features_valid[ohe_df] = ohe.transform(features_valid[ohe_df])\n",
    "\n",
    "\n",
    "numeric = ['CreditScore', 'Balance', 'EstimatedSalary']\n",
    "scaler = StandardScaler()\n",
    "scaler.fit(features_train[numeric])\n",
    "features_train[numeric] = scaler.transform(features_train[numeric])\n",
    "features_valid[numeric] = scaler.transform(features_valid[numeric])\n",
    "features_test[numeric] = scaler.transform(features_test[numeric])\n",
    "\n",
    "\n",
    "features_train.head() #проверяем, что масштабирование прошло как надо"
   ]
  },
  {
   "cell_type": "code",
   "execution_count": 8,
   "metadata": {
    "scrolled": true
   },
   "outputs": [
    {
     "name": "stdout",
     "output_type": "stream",
     "text": [
      "F1: 0.27225130890052357\n",
      "AUC-ROC: 0.7383831706070267\n"
     ]
    }
   ],
   "source": [
    "model = LogisticRegression(random_state=12345, solver='liblinear')\n",
    "model.fit(features_train, target_train)\n",
    "predicted_valid = model.predict(features_valid)\n",
    "\n",
    "print(\"F1:\", f1_score(target_valid, predicted_valid))\n",
    "\n",
    "probabilities_valid = model.predict_proba(features_valid)\n",
    "probabilities_one_valid = probabilities_valid[:, 1]\n",
    "\n",
    "auc_roc = roc_auc_score(target_valid, probabilities_one_valid)\n",
    "print(\"AUC-ROC:\", auc_roc)"
   ]
  },
  {
   "cell_type": "code",
   "execution_count": 9,
   "metadata": {},
   "outputs": [
    {
     "name": "stdout",
     "output_type": "stream",
     "text": [
      "F1: 0.27225130890052357\n",
      "AUC-ROC: 0.7383831706070267\n"
     ]
    }
   ],
   "source": [
    "другиеmodel = RandomForestClassifier(random_state=12345, n_estimators=100)\n",
    "model.fit(features_train, target_train)\n",
    "predicted_valid = model.predict(features_valid)\n",
    "predicted_valid\n",
    "\n",
    "print(\"F1:\", f1_score(target_valid, predicted_valid))\n",
    "probabilities_valid = model.predict_proba(features_valid)\n",
    "probabilities_one_valid = probabilities_valid[:, 1]\n",
    "\n",
    "auc_roc = roc_auc_score(target_valid, probabilities_one_valid)\n",
    "print(\"AUC-ROC:\", auc_roc)\n"
   ]
  },
  {
   "cell_type": "markdown",
   "metadata": {},
   "source": [
    "Кратко описываю выводы: у модели линейной регрессии на несбалансированных данных результат метрики F1 далек от целевого в 0.59. Модель случайного леса по F1 тоже не дотягивает, но по обеим метрикам результаты лучше."
   ]
  },
  {
   "cell_type": "markdown",
   "metadata": {},
   "source": [
    "## Борьба с дисбалансом"
   ]
  },
  {
   "cell_type": "code",
   "execution_count": 10,
   "metadata": {},
   "outputs": [
    {
     "name": "stdout",
     "output_type": "stream",
     "text": [
      "F1: 0.4779220779220779\n",
      "AUC-ROC: 0.7415132722004105\n"
     ]
    }
   ],
   "source": [
    "# самое простое - попробовать сбалансировать вес классов\n",
    "model = LogisticRegression(random_state=12345, solver='liblinear', class_weight='balanced')\n",
    "model.fit(features_train, target_train)\n",
    "predicted_valid = model.predict(features_valid)\n",
    "\n",
    "print(\"F1:\", f1_score(target_valid, predicted_valid))\n",
    "\n",
    "probabilities_valid = model.predict_proba(features_valid)\n",
    "probabilities_one_valid = probabilities_valid[:, 1]\n",
    "auc_roc = roc_auc_score(target_valid, probabilities_one_valid)\n",
    "print(\"AUC-ROC:\", auc_roc)"
   ]
  },
  {
   "cell_type": "markdown",
   "metadata": {},
   "source": [
    "Уже получше (F1 выросла почти вдвое), но все еще есть к чему стремиться. AUC-ROC выросла несущественно."
   ]
  },
  {
   "cell_type": "code",
   "execution_count": 11,
   "metadata": {},
   "outputs": [
    {
     "name": "stdout",
     "output_type": "stream",
     "text": [
      "0    4804\n",
      "1    4784\n",
      "Name: Exited, dtype: int64\n",
      "F1: 0.47660311958405543\n",
      "AUC-ROC: 0.7415762340140704\n"
     ]
    }
   ],
   "source": [
    "# теперь попробуем upsampling\n",
    "def upsample(features, target, repeat):\n",
    "    features_zeros = features[target == 0]\n",
    "    features_ones = features[target == 1]\n",
    "    target_zeros = target[target == 0]\n",
    "    target_ones = target[target == 1]\n",
    "    repeat = 4\n",
    "    features_upsampled = pd.concat([features_zeros] + [features_ones] * repeat)\n",
    "    target_upsampled = pd.concat([target_zeros] + [target_ones] * repeat)\n",
    "    features_upsampled = shuffle(features_upsampled, random_state=12345)\n",
    "    target_upsampled = shuffle(target_upsampled, random_state=12345)\n",
    "    \n",
    "    return features_upsampled, target_upsampled\n",
    "\n",
    "features_upsampled, target_upsampled = upsample(features_train, target_train, 4)\n",
    "print(target_upsampled.value_counts())\n",
    "\n",
    "model = LogisticRegression(random_state=12345, solver='liblinear')\n",
    "model.fit(features_upsampled, target_upsampled)\n",
    "predicted_valid = model.predict(features_valid)\n",
    "\n",
    "print(\"F1:\", f1_score(target_valid, predicted_valid))\n",
    "\n",
    "probabilities_valid = model.predict_proba(features_valid)\n",
    "probabilities_one_valid = probabilities_valid[:, 1]\n",
    "auc_roc = roc_auc_score(target_valid, probabilities_one_valid)\n",
    "print(\"AUC-ROC:\", auc_roc)"
   ]
  },
  {
   "cell_type": "code",
   "execution_count": 12,
   "metadata": {},
   "outputs": [
    {
     "name": "stdout",
     "output_type": "stream",
     "text": [
      "F1: 0.599476439790576\n",
      "AUC-ROC: 0.8511170475106847\n"
     ]
    }
   ],
   "source": [
    "model = RandomForestClassifier(random_state=12345, n_estimators=189)\n",
    "model.fit(features_upsampled, target_upsampled)\n",
    "predicted_valid = model.predict(features_valid)\n",
    "\n",
    "print(\"F1:\", f1_score(target_valid, predicted_valid))\n",
    "\n",
    "probabilities_valid = model.predict_proba(features_valid)\n",
    "probabilities_one_valid = probabilities_valid[:, 1]\n",
    "auc_roc = roc_auc_score(target_valid, probabilities_one_valid)\n",
    "print(\"AUC-ROC:\", auc_roc)"
   ]
  },
  {
   "cell_type": "markdown",
   "metadata": {},
   "source": [
    "Апсемплинг не сильно помог логистической регрессии. А вот случайный лес благодаря апсемплингу достиг искомого порога в 0,59, хотя AUC-ROC у этой модели даже немного снизилась."
   ]
  },
  {
   "cell_type": "markdown",
   "metadata": {},
   "source": [
    "<div class=\"alert alert-danger\">\n",
    "<h2>Комментарий ревьюера<a class=\"tocSkip\"></a></h2>\n",
    "\n",
    "**Нужно доработать** ❌: суть функции upsample — увеличить количество строк положительного класса во столько раз, чтобы избавиться от дисбаланса классов в целевом признаке и прийти к соотношению приблизительно 1:1. Как раз за это отвечает параметр `repeat`, он подбирается на основе отношения классов в целевом признаке нашей текущей выборке. Можешь перепроверить значение параметра, которое ты используешь? Также для наглядности и самоконтроля не забудь вывести соотношение классов в увеличенной выборке на экран</div>"
   ]
  },
  {
   "cell_type": "code",
   "execution_count": 13,
   "metadata": {},
   "outputs": [
    {
     "name": "stdout",
     "output_type": "stream",
     "text": [
      "F1: 0.48007590132827316\n",
      "AUC-ROC: 0.7415942231036876\n"
     ]
    }
   ],
   "source": [
    "def downsample(features, target, fraction):\n",
    "    features_zeros = features[target == 0]\n",
    "    features_ones = features[target == 1]\n",
    "    target_zeros = target[target == 0]\n",
    "    target_ones = target[target == 1]\n",
    "    features_downsampled = pd.concat(\n",
    "        [features_zeros.sample(frac=fraction, random_state=12345)] + [features_ones])\n",
    "    target_downsampled = pd.concat(\n",
    "        [target_zeros.sample(frac=fraction, random_state=12345)] + [target_ones])\n",
    "    features_downsampled, target_downsampled = shuffle(\n",
    "        features_downsampled, target_downsampled, random_state=12345)\n",
    "    \n",
    "    return features_downsampled, target_downsampled\n",
    "\n",
    "features_downsampled, target_downsampled = downsample(features_train, target_train, 0.3)\n",
    "\n",
    "model = LogisticRegression(random_state=12345, solver='liblinear')\n",
    "model.fit(features_downsampled, target_downsampled)\n",
    "predicted_valid = model.predict(features_valid)\n",
    "\n",
    "print(\"F1:\", f1_score(target_valid, predicted_valid))\n",
    "\n",
    "probabilities_valid = model.predict_proba(features_valid)\n",
    "probabilities_one_valid = probabilities_valid[:, 1]\n",
    "auc_roc = roc_auc_score(target_valid, probabilities_one_valid)\n",
    "print(\"AUC-ROC:\", auc_roc)\n"
   ]
  },
  {
   "cell_type": "markdown",
   "metadata": {},
   "source": [
    "Путём подбора значения frac самое большое значение, которого удалось добиться - 0,48. Всё ещё маловато. AUC-ROC держится на уровне 0,74."
   ]
  },
  {
   "cell_type": "code",
   "execution_count": 14,
   "metadata": {},
   "outputs": [
    {
     "name": "stdout",
     "output_type": "stream",
     "text": [
      "F1: 0.5969849246231156\n",
      "AUC-ROC: 0.8479367263754534\n"
     ]
    }
   ],
   "source": [
    "model = RandomForestClassifier(random_state=12345, n_estimators=400)\n",
    "model.fit(features_downsampled, target_downsampled)\n",
    "predicted_valid = model.predict(features_valid)\n",
    "\n",
    "print(\"F1:\", f1_score(target_valid, predicted_valid))\n",
    "\n",
    "probabilities_valid = model.predict_proba(features_valid)\n",
    "probabilities_one_valid = probabilities_valid[:, 1]\n",
    "auc_roc = roc_auc_score(target_valid, probabilities_one_valid)\n",
    "print(\"AUC-ROC:\", auc_roc)"
   ]
  },
  {
   "cell_type": "markdown",
   "metadata": {},
   "source": [
    "По случайному лесу при уменьшении выборки чуть выше F1, чуть ниже AUC-ROC. "
   ]
  },
  {
   "cell_type": "code",
   "execution_count": 15,
   "metadata": {},
   "outputs": [
    {
     "name": "stdout",
     "output_type": "stream",
     "text": [
      "Порог = 0.00 | Точность = 0.211, Полнота = 1.000\n",
      "Порог = 0.05 | Точность = 0.230, Полнота = 0.995\n",
      "Порог = 0.10 | Точность = 0.251, Полнота = 0.983\n",
      "Порог = 0.15 | Точность = 0.280, Полнота = 0.967\n",
      "Порог = 0.20 | Точность = 0.304, Полнота = 0.950\n",
      "Порог = 0.25 | Точность = 0.336, Полнота = 0.934\n",
      "Порог = 0.30 | Точность = 0.371, Полнота = 0.898\n",
      "Порог = 0.35 | Точность = 0.393, Полнота = 0.844\n",
      "Порог = 0.40 | Точность = 0.425, Полнота = 0.794\n",
      "Порог = 0.45 | Точность = 0.472, Полнота = 0.745\n",
      "Порог = 0.50 | Точность = 0.519, Полнота = 0.702\n",
      "Порог = 0.55 | Точность = 0.560, Полнота = 0.643\n",
      "Порог = 0.60 | Точность = 0.601, Полнота = 0.582\n",
      "Порог = 0.65 | Точность = 0.649, Полнота = 0.525\n",
      "Порог = 0.70 | Точность = 0.706, Полнота = 0.478\n",
      "Порог = 0.75 | Точность = 0.725, Полнота = 0.404\n",
      "[[0.8975 0.1025]\n",
      " [0.415  0.585 ]\n",
      " [0.8875 0.1125]\n",
      " ...\n",
      " [0.88   0.12  ]\n",
      " [0.6575 0.3425]\n",
      " [0.4525 0.5475]]\n"
     ]
    }
   ],
   "source": [
    "# попробуем вычислить более подходящий для модели порог\n",
    "probabilities_valid = model.predict_proba(features_valid)\n",
    "probabilities_one_valid = probabilities_valid[:, 1]\n",
    "\n",
    "for threshold in np.arange(0, 0.8, 0.05):\n",
    "    predicted_valid = probabilities_one_valid > threshold\n",
    "    precision = precision_score(target_valid, predicted_valid)\n",
    "    recall = recall_score(target_valid, predicted_valid)\n",
    "\n",
    "    print(\"Порог = {:.2f} | Точность = {:.3f}, Полнота = {:.3f}\".format(\n",
    "        threshold, precision, recall))\n",
    "    \n",
    "print(probabilities_valid)\n",
    "# но, как выяснилось, я не понимаю, как этот порог применить непосредственно в модель :( \n",
    "# поэтому попробую ниже другую модель"
   ]
  },
  {
   "cell_type": "code",
   "execution_count": 16,
   "metadata": {},
   "outputs": [],
   "source": [
    "# закомменчу эти ячейки, так как модели перенес выше, после каждого способа борьбы с дисбалансом или без борьбы.\n",
    "#model = RandomForestClassifier(random_state=12345, n_estimators=100)\n",
    "#model.fit(features_train, target_train)\n",
    "#predicted_valid = model.predict(features_valid)\n",
    "#predicted_valid\n",
    "\n",
    "#print(f1_score(target_valid, predicted_valid))"
   ]
  },
  {
   "cell_type": "code",
   "execution_count": 17,
   "metadata": {},
   "outputs": [],
   "source": [
    "#model = RandomForestClassifier(random_state=12345, n_estimators=100)\n",
    "#model.fit(features_upsampled, target_upsampled)\n",
    "#predicted_valid = model.predict(features_valid)\n",
    "#predicted_valid\n",
    "\n",
    "#print(f1_score(target_valid, predicted_valid))"
   ]
  },
  {
   "cell_type": "markdown",
   "metadata": {},
   "source": [
    "<div class=\"alert alert-warning\">\n",
    "<h2>Комментарий ревьюера v2<a class=\"tocSkip\"></a></h2>\n",
    "    \n",
    "**Есть совет** ⚠️: подбор порога классификации очень похож на цикл для подбора гиперпараметров, например сам код подбора будет выглядеть примерно так:\n",
    "    \n",
    "    best_f1 = 0\n",
    "    best_threshold = 0\n",
    "    model = RandomForestClassifier(...)\n",
    "    probabilities_one_valid = model.predict_proba(features_valid)[:, 1]\n",
    "    for threshold in np.arange(0, 1, 0.01):\n",
    "        predicted_valid = probabilities_one_valid > threshold\n",
    "        f1 = f1_score(target_valid, predicted_valid)\n",
    "        if f1 > best_f1:\n",
    "            best_threshold = threshold\n",
    "            best_f1 = f1\n",
    "    \n",
    "А использование на тестовой выборке, например, так:\n",
    "    \n",
    "    probabilities_one_test = model.predict_proba(features_test)[:, 1]\n",
    "    predicted_test = probabilities_one_test > best_threshold\n",
    "    f1_test = f1_score(target_test, predicted_test)\n",
    "</div>"
   ]
  },
  {
   "cell_type": "code",
   "execution_count": 18,
   "metadata": {},
   "outputs": [],
   "source": [
    "#model = RandomForestClassifier(random_state=12345, n_estimators=100)\n",
    "#model.fit(features_downsampled, target_downsampled)\n",
    "#predicted_valid = model.predict(features_valid)\n",
    "#predicted_valid\n",
    "\n",
    "#print(f1_score(target_valid, predicted_valid))"
   ]
  },
  {
   "cell_type": "markdown",
   "metadata": {},
   "source": [
    "При ап- и даунсемплинге случайный лес показывает необходимый нам результат выше 0.59. Проверим теперь на тестовой выборке."
   ]
  },
  {
   "cell_type": "markdown",
   "metadata": {},
   "source": [
    "## Тестирование модели"
   ]
  },
  {
   "cell_type": "code",
   "execution_count": 19,
   "metadata": {},
   "outputs": [
    {
     "name": "stdout",
     "output_type": "stream",
     "text": [
      "F1: 0.6055776892430279\n",
      "AUC-ROC: 0.8400040225261463\n"
     ]
    }
   ],
   "source": [
    "#model = RandomForestClassifier(random_state=12345, n_estimators=400)\n",
    "#model.fit(features_downsampled, target_downsampled)\n",
    "model = RandomForestClassifier(random_state=12345, n_estimators=189)\n",
    "model.fit(features_upsampled, target_upsampled)\n",
    "predicted_test = model.predict(features_test)\n",
    "\n",
    "print(\"F1:\", f1_score(target_test, predicted_test))\n",
    "\n",
    "probabilities_test = model.predict_proba(features_test)\n",
    "probabilities_one_test = probabilities_test[:, 1]\n",
    "auc_roc = roc_auc_score(target_test, probabilities_one_test)\n",
    "print(\"AUC-ROC:\", auc_roc)"
   ]
  },
  {
   "cell_type": "markdown",
   "metadata": {},
   "source": [
    "<div class=\"alert alert-success\">\n",
    "<h2>Комментарий ревьюера v2<a class=\"tocSkip\"></a></h2>\n",
    "    \n",
    "**Отлично!** ✔️: бейзлайн побит, ура!</div>"
   ]
  },
  {
   "cell_type": "markdown",
   "metadata": {},
   "source": [
    "<div class=\"alert alert-warning\">\n",
    "<h2>Комментарий ревьюера<a class=\"tocSkip\"></a></h2>\n",
    "    \n",
    "**Есть совет** ⚠️: на этом этапе как раз необходимо выбрать лучшую модель и проверить ее качество на тестовой выборке, которую необходимо было выделить в начале. Тогда алгоритм в этом проекте будет примерно следующим:\n",
    "1. Обучить 2 выбранные тобой модели с подбором гиперпараметров без учета борьбы с дисбалансом и зафиксировать результаты в выводах;\n",
    "2. Проверить 3 разных способа борьбы с дисбалансом для каждой модели, подобрать для каждой гиперпараметры и зафиксировать результаты в выводах\n",
    "3. У тебя должно получиться 8 моделей: 2 модели без учета дисбаланса и по 2 модели на каждый способ борьбы с дисбалансом. После этого нужно выбрать лучшую по F1-мере из этих моделей и проверить ее на тестовой выборке. Необходимое значение F1 для принятия проекта >=0.59</div>"
   ]
  },
  {
   "cell_type": "markdown",
   "metadata": {},
   "source": [
    "### ОБЩИЕ ВЫВОДЫ\n",
    "Мы поработали с данными об уходе клиентов «Бета-Банка», чтобы построить модель, которая помогла бы сохранять текущих клиентов, так как это для компании обходилось бы дешевле, чем привлекать новых. Для этого изучили данные по 10 000 прошлых клиентов, из которых порядка 20% от услуг банка ранее отказались. Провели предобработку данных, после чего приступили к исследованию задачи. Проанализировали модели без учёта дисбаланса, результаты нас не устроили, поэтому стали строить модели с учётом дисбаланса. \n",
    "Оптимальной моделью стал случайный лес с апсемплингом, что подтверждается результатами тестирования на тестовой выборке (F1 = 0,61) и метрики AUC-ROC (0,84). "
   ]
  },
  {
   "cell_type": "markdown",
   "metadata": {},
   "source": [
    "<div style=\"padding: 20px 25px; border: 2px #6495ed solid\">\n",
    "    \n",
    "<h2 style=\"color: #87187D\">Итоговый комментарий ревьюера<a class=\"tocSkip\"></a></h2>\n",
    "\n",
    "Видно, что ты приложил много усилий, спасибо за проект!\n",
    "\n",
    "Но тебе обязательно нужно обратить внимание на следующее:\n",
    "* выдели три выборки;\n",
    "* добавь расчет AUC-ROC на каждом этапе;\n",
    "* перепроверь коэффициенты увеличения/уменьшения выборок;\n",
    "* добавь этап тестирования лучшей модели;\n",
    "    \n",
    "Остальные комментарии можно найти в проекте. Готов ответить на любые вопросы :)\n",
    "\n",
    "<b>Жду доработанный проект на повторное ревью! Удачи!</b>\n",
    "        \n",
    "</div>"
   ]
  },
  {
   "cell_type": "markdown",
   "metadata": {},
   "source": [
    "## Чек-лист готовности проекта"
   ]
  },
  {
   "cell_type": "markdown",
   "metadata": {},
   "source": [
    "Поставьте 'x' в выполненных пунктах. Далее нажмите Shift+Enter."
   ]
  },
  {
   "cell_type": "markdown",
   "metadata": {},
   "source": [
    "- [x]  Jupyter Notebook открыт\n",
    "- [x]  Весь код выполняется без ошибок\n",
    "- [x]  Ячейки с кодом расположены в порядке исполнения\n",
    "- [x]  Выполнен шаг 1: данные подготовлены\n",
    "- [x]  Выполнен шаг 2: задача исследована\n",
    "    - [x]  Исследован баланс классов\n",
    "    - [x]  Изучены модели без учёта дисбаланса\n",
    "    - [x]  Написаны выводы по результатам исследования\n",
    "- [x]  Выполнен шаг 3: учтён дисбаланс\n",
    "    - [x]  Применено несколько способов борьбы с дисбалансом\n",
    "    - [x]  Написаны выводы по результатам исследования\n",
    "- [x]  Выполнен шаг 4: проведено тестирование\n",
    "- [x]  Удалось достичь *F1*-меры не менее 0.59\n",
    "- [x]  Исследована метрика *AUC-ROC*"
   ]
  },
  {
   "cell_type": "code",
   "execution_count": null,
   "metadata": {},
   "outputs": [],
   "source": []
  }
 ],
 "metadata": {
  "ExecuteTimeLog": [
   {
    "duration": 535,
    "start_time": "2022-12-01T18:50:17.080Z"
   },
   {
    "duration": 54,
    "start_time": "2022-12-01T18:50:23.399Z"
   },
   {
    "duration": 64,
    "start_time": "2022-12-01T18:50:54.648Z"
   },
   {
    "duration": 44,
    "start_time": "2022-12-02T17:50:05.603Z"
   },
   {
    "duration": 586,
    "start_time": "2022-12-02T17:50:08.911Z"
   },
   {
    "duration": 25,
    "start_time": "2022-12-02T17:50:09.498Z"
   },
   {
    "duration": 12,
    "start_time": "2022-12-02T17:50:21.998Z"
   },
   {
    "duration": 11,
    "start_time": "2022-12-02T17:50:26.510Z"
   },
   {
    "duration": 13,
    "start_time": "2022-12-02T17:53:42.757Z"
   },
   {
    "duration": 11,
    "start_time": "2022-12-02T17:53:48.572Z"
   },
   {
    "duration": 11,
    "start_time": "2022-12-02T17:55:18.499Z"
   },
   {
    "duration": 11,
    "start_time": "2022-12-02T17:55:38.458Z"
   },
   {
    "duration": 15,
    "start_time": "2022-12-02T17:56:44.927Z"
   },
   {
    "duration": 13,
    "start_time": "2022-12-02T18:03:33.637Z"
   },
   {
    "duration": 16,
    "start_time": "2022-12-02T18:03:41.549Z"
   },
   {
    "duration": 13,
    "start_time": "2022-12-02T18:04:33.587Z"
   },
   {
    "duration": 23,
    "start_time": "2022-12-02T18:04:40.881Z"
   },
   {
    "duration": 27,
    "start_time": "2022-12-02T18:14:56.286Z"
   },
   {
    "duration": 28,
    "start_time": "2022-12-02T18:15:02.741Z"
   },
   {
    "duration": 29,
    "start_time": "2022-12-02T18:15:10.343Z"
   },
   {
    "duration": 754,
    "start_time": "2022-12-02T18:26:46.496Z"
   },
   {
    "duration": 26,
    "start_time": "2022-12-02T18:26:47.252Z"
   },
   {
    "duration": 80,
    "start_time": "2022-12-02T18:28:14.698Z"
   },
   {
    "duration": 1533,
    "start_time": "2022-12-08T14:07:46.271Z"
   },
   {
    "duration": 19,
    "start_time": "2022-12-08T14:07:47.806Z"
   },
   {
    "duration": 111,
    "start_time": "2022-12-08T14:07:47.826Z"
   },
   {
    "duration": 5,
    "start_time": "2022-12-08T14:19:09.020Z"
   },
   {
    "duration": 18,
    "start_time": "2022-12-08T14:21:25.895Z"
   },
   {
    "duration": 8,
    "start_time": "2022-12-08T14:21:37.878Z"
   },
   {
    "duration": 18,
    "start_time": "2022-12-08T14:22:31.225Z"
   },
   {
    "duration": 17,
    "start_time": "2022-12-08T14:22:44.945Z"
   },
   {
    "duration": 57,
    "start_time": "2022-12-08T14:23:13.124Z"
   },
   {
    "duration": 20,
    "start_time": "2022-12-08T14:23:13.183Z"
   },
   {
    "duration": 5,
    "start_time": "2022-12-08T14:23:13.205Z"
   },
   {
    "duration": 8,
    "start_time": "2022-12-08T14:23:13.212Z"
   },
   {
    "duration": 19,
    "start_time": "2022-12-08T14:23:13.222Z"
   },
   {
    "duration": 12,
    "start_time": "2022-12-08T14:23:35.181Z"
   },
   {
    "duration": 20,
    "start_time": "2022-12-08T14:23:56.692Z"
   },
   {
    "duration": 5,
    "start_time": "2022-12-08T14:24:01.500Z"
   },
   {
    "duration": 1222,
    "start_time": "2022-12-08T14:24:03.067Z"
   },
   {
    "duration": 1285,
    "start_time": "2022-12-08T14:24:41.496Z"
   },
   {
    "duration": 9,
    "start_time": "2022-12-08T14:24:59.256Z"
   },
   {
    "duration": 1218,
    "start_time": "2022-12-08T14:25:13.527Z"
   },
   {
    "duration": 1123,
    "start_time": "2022-12-08T14:26:47.013Z"
   },
   {
    "duration": 1508,
    "start_time": "2022-12-08T14:36:54.641Z"
   },
   {
    "duration": 1356,
    "start_time": "2022-12-08T18:10:58.041Z"
   },
   {
    "duration": 22,
    "start_time": "2022-12-08T18:10:59.399Z"
   },
   {
    "duration": 5,
    "start_time": "2022-12-08T18:10:59.422Z"
   },
   {
    "duration": 16,
    "start_time": "2022-12-08T18:10:59.429Z"
   },
   {
    "duration": 134,
    "start_time": "2022-12-08T18:10:59.447Z"
   },
   {
    "duration": 21,
    "start_time": "2022-12-08T18:11:30.316Z"
   },
   {
    "duration": 20,
    "start_time": "2022-12-08T18:12:25.784Z"
   },
   {
    "duration": 21,
    "start_time": "2022-12-08T18:12:45.032Z"
   },
   {
    "duration": 28,
    "start_time": "2022-12-08T18:12:53.528Z"
   },
   {
    "duration": 34,
    "start_time": "2022-12-08T18:15:00.696Z"
   },
   {
    "duration": 78,
    "start_time": "2022-12-08T18:17:54.659Z"
   },
   {
    "duration": 22,
    "start_time": "2022-12-08T18:17:54.739Z"
   },
   {
    "duration": 10,
    "start_time": "2022-12-08T18:17:54.763Z"
   },
   {
    "duration": 56,
    "start_time": "2022-12-08T18:17:54.775Z"
   },
   {
    "duration": 16,
    "start_time": "2022-12-08T18:17:54.832Z"
   },
   {
    "duration": 43,
    "start_time": "2022-12-08T18:21:13.654Z"
   },
   {
    "duration": 70,
    "start_time": "2022-12-08T18:21:33.173Z"
   },
   {
    "duration": 22,
    "start_time": "2022-12-08T18:21:33.246Z"
   },
   {
    "duration": 6,
    "start_time": "2022-12-08T18:21:33.269Z"
   },
   {
    "duration": 51,
    "start_time": "2022-12-08T18:21:33.277Z"
   },
   {
    "duration": 17,
    "start_time": "2022-12-08T18:21:33.330Z"
   },
   {
    "duration": 68,
    "start_time": "2022-12-08T18:22:07.448Z"
   },
   {
    "duration": 20,
    "start_time": "2022-12-08T18:22:07.518Z"
   },
   {
    "duration": 15,
    "start_time": "2022-12-08T18:22:07.540Z"
   },
   {
    "duration": 56,
    "start_time": "2022-12-08T18:22:07.556Z"
   },
   {
    "duration": 17,
    "start_time": "2022-12-08T18:22:07.614Z"
   },
   {
    "duration": 61,
    "start_time": "2022-12-08T18:30:28.333Z"
   },
   {
    "duration": 26,
    "start_time": "2022-12-08T18:30:28.396Z"
   },
   {
    "duration": 6,
    "start_time": "2022-12-08T18:30:28.424Z"
   },
   {
    "duration": 58,
    "start_time": "2022-12-08T18:30:28.431Z"
   },
   {
    "duration": 20,
    "start_time": "2022-12-08T18:30:28.491Z"
   },
   {
    "duration": 44,
    "start_time": "2022-12-08T18:30:49.005Z"
   },
   {
    "duration": 91,
    "start_time": "2022-12-08T18:30:52.795Z"
   },
   {
    "duration": 47,
    "start_time": "2022-12-08T18:31:10.771Z"
   },
   {
    "duration": 43,
    "start_time": "2022-12-08T18:31:25.624Z"
   },
   {
    "duration": 43,
    "start_time": "2022-12-08T18:31:46.177Z"
   },
   {
    "duration": 77,
    "start_time": "2022-12-08T18:33:45.303Z"
   },
   {
    "duration": 32,
    "start_time": "2022-12-08T18:39:52.879Z"
   },
   {
    "duration": 32,
    "start_time": "2022-12-08T18:40:48.028Z"
   },
   {
    "duration": 65,
    "start_time": "2022-12-08T18:42:49.624Z"
   },
   {
    "duration": 23,
    "start_time": "2022-12-08T18:42:49.691Z"
   },
   {
    "duration": 5,
    "start_time": "2022-12-08T18:42:49.716Z"
   },
   {
    "duration": 62,
    "start_time": "2022-12-08T18:42:49.723Z"
   },
   {
    "duration": 47,
    "start_time": "2022-12-08T18:42:49.788Z"
   },
   {
    "duration": 207,
    "start_time": "2022-12-08T18:42:49.879Z"
   },
   {
    "duration": 90,
    "start_time": "2022-12-08T18:42:50.088Z"
   },
   {
    "duration": 21,
    "start_time": "2022-12-08T18:43:44.089Z"
   },
   {
    "duration": 91,
    "start_time": "2022-12-08T18:44:07.032Z"
   },
   {
    "duration": 127,
    "start_time": "2022-12-08T18:44:28.586Z"
   },
   {
    "duration": 102,
    "start_time": "2022-12-08T18:44:37.477Z"
   },
   {
    "duration": 121,
    "start_time": "2022-12-08T18:44:49.958Z"
   },
   {
    "duration": 12,
    "start_time": "2022-12-08T18:46:27.522Z"
   },
   {
    "duration": 123,
    "start_time": "2022-12-08T18:46:45.055Z"
   },
   {
    "duration": 28,
    "start_time": "2022-12-08T18:46:49.961Z"
   },
   {
    "duration": 25,
    "start_time": "2022-12-08T18:46:57.135Z"
   },
   {
    "duration": 26,
    "start_time": "2022-12-08T18:47:00.088Z"
   },
   {
    "duration": 28,
    "start_time": "2022-12-08T18:47:02.536Z"
   },
   {
    "duration": 31,
    "start_time": "2022-12-08T18:47:05.827Z"
   },
   {
    "duration": 43,
    "start_time": "2022-12-08T18:47:07.934Z"
   },
   {
    "duration": 32,
    "start_time": "2022-12-08T18:47:24.504Z"
   },
   {
    "duration": 24,
    "start_time": "2022-12-08T18:47:28.825Z"
   },
   {
    "duration": 40,
    "start_time": "2022-12-08T18:48:02.547Z"
   },
   {
    "duration": 42,
    "start_time": "2022-12-08T18:48:11.950Z"
   },
   {
    "duration": 51,
    "start_time": "2022-12-08T18:48:14.339Z"
   },
   {
    "duration": 60,
    "start_time": "2022-12-08T18:48:19.252Z"
   },
   {
    "duration": 1330,
    "start_time": "2022-12-09T18:01:51.135Z"
   },
   {
    "duration": 31,
    "start_time": "2022-12-09T18:01:52.467Z"
   },
   {
    "duration": 8,
    "start_time": "2022-12-09T18:01:52.501Z"
   },
   {
    "duration": 51,
    "start_time": "2022-12-09T18:01:52.512Z"
   },
   {
    "duration": 47,
    "start_time": "2022-12-09T18:01:52.565Z"
   },
   {
    "duration": 273,
    "start_time": "2022-12-09T18:01:52.613Z"
   },
   {
    "duration": 291,
    "start_time": "2022-12-09T18:01:52.888Z"
   },
   {
    "duration": 204,
    "start_time": "2022-12-09T18:01:53.181Z"
   },
   {
    "duration": 4,
    "start_time": "2022-12-09T18:01:53.386Z"
   },
   {
    "duration": 290,
    "start_time": "2022-12-09T18:04:06.585Z"
   },
   {
    "duration": 70,
    "start_time": "2022-12-09T18:04:26.717Z"
   },
   {
    "duration": 63,
    "start_time": "2022-12-09T18:04:28.394Z"
   },
   {
    "duration": 29,
    "start_time": "2022-12-09T18:04:28.460Z"
   },
   {
    "duration": 6,
    "start_time": "2022-12-09T18:04:28.492Z"
   },
   {
    "duration": 59,
    "start_time": "2022-12-09T18:04:28.501Z"
   },
   {
    "duration": 117,
    "start_time": "2022-12-09T18:04:28.562Z"
   },
   {
    "duration": 122,
    "start_time": "2022-12-09T18:04:28.681Z"
   },
   {
    "duration": 207,
    "start_time": "2022-12-09T18:04:28.806Z"
   },
   {
    "duration": 188,
    "start_time": "2022-12-09T18:04:29.015Z"
   },
   {
    "duration": 199,
    "start_time": "2022-12-09T18:04:29.280Z"
   },
   {
    "duration": 77,
    "start_time": "2022-12-09T18:04:44.737Z"
   },
   {
    "duration": 30,
    "start_time": "2022-12-09T18:04:44.817Z"
   },
   {
    "duration": 8,
    "start_time": "2022-12-09T18:04:44.849Z"
   },
   {
    "duration": 81,
    "start_time": "2022-12-09T18:04:44.859Z"
   },
   {
    "duration": 236,
    "start_time": "2022-12-09T18:04:44.943Z"
   },
   {
    "duration": 197,
    "start_time": "2022-12-09T18:04:45.181Z"
   },
   {
    "duration": 198,
    "start_time": "2022-12-09T18:04:45.380Z"
   },
   {
    "duration": 127,
    "start_time": "2022-12-09T18:04:45.580Z"
   },
   {
    "duration": 383,
    "start_time": "2022-12-09T18:04:45.709Z"
   },
   {
    "duration": 214,
    "start_time": "2022-12-09T18:06:10.822Z"
   },
   {
    "duration": 75,
    "start_time": "2022-12-09T18:21:16.840Z"
   },
   {
    "duration": 22,
    "start_time": "2022-12-09T18:21:16.917Z"
   },
   {
    "duration": 6,
    "start_time": "2022-12-09T18:21:16.941Z"
   },
   {
    "duration": 64,
    "start_time": "2022-12-09T18:21:16.950Z"
   },
   {
    "duration": 170,
    "start_time": "2022-12-09T18:21:17.016Z"
   },
   {
    "duration": 195,
    "start_time": "2022-12-09T18:21:17.188Z"
   },
   {
    "duration": 112,
    "start_time": "2022-12-09T18:21:17.385Z"
   },
   {
    "duration": 282,
    "start_time": "2022-12-09T18:21:17.499Z"
   },
   {
    "duration": 197,
    "start_time": "2022-12-09T18:21:17.783Z"
   },
   {
    "duration": 326,
    "start_time": "2022-12-09T18:21:17.983Z"
   },
   {
    "duration": 105,
    "start_time": "2022-12-09T18:23:24.190Z"
   },
   {
    "duration": 82,
    "start_time": "2022-12-09T18:23:26.541Z"
   },
   {
    "duration": 29,
    "start_time": "2022-12-09T18:23:26.626Z"
   },
   {
    "duration": 20,
    "start_time": "2022-12-09T18:23:26.658Z"
   },
   {
    "duration": 47,
    "start_time": "2022-12-09T18:23:26.681Z"
   },
   {
    "duration": 79,
    "start_time": "2022-12-09T18:23:26.730Z"
   },
   {
    "duration": 125,
    "start_time": "2022-12-09T18:23:26.882Z"
   },
   {
    "duration": 171,
    "start_time": "2022-12-09T18:23:27.009Z"
   },
   {
    "duration": 0,
    "start_time": "2022-12-09T18:23:27.182Z"
   },
   {
    "duration": 0,
    "start_time": "2022-12-09T18:23:27.184Z"
   },
   {
    "duration": 0,
    "start_time": "2022-12-09T18:23:27.186Z"
   },
   {
    "duration": 58,
    "start_time": "2022-12-09T18:23:53.238Z"
   },
   {
    "duration": 62,
    "start_time": "2022-12-09T18:23:58.036Z"
   },
   {
    "duration": 62,
    "start_time": "2022-12-09T18:24:02.410Z"
   },
   {
    "duration": 116,
    "start_time": "2022-12-09T18:24:05.223Z"
   },
   {
    "duration": 188,
    "start_time": "2022-12-09T18:24:08.224Z"
   },
   {
    "duration": 230,
    "start_time": "2022-12-09T18:24:17.542Z"
   },
   {
    "duration": 317,
    "start_time": "2022-12-09T18:24:23.353Z"
   },
   {
    "duration": 279,
    "start_time": "2022-12-09T18:24:27.343Z"
   },
   {
    "duration": 329,
    "start_time": "2022-12-09T18:24:31.464Z"
   },
   {
    "duration": 438,
    "start_time": "2022-12-09T18:24:34.241Z"
   },
   {
    "duration": 852,
    "start_time": "2022-12-09T18:24:38.363Z"
   },
   {
    "duration": 10041,
    "start_time": "2022-12-09T18:24:42.036Z"
   },
   {
    "duration": 846,
    "start_time": "2022-12-09T18:25:02.647Z"
   },
   {
    "duration": 803,
    "start_time": "2022-12-09T18:26:32.080Z"
   },
   {
    "duration": 1463,
    "start_time": "2022-12-09T18:27:25.107Z"
   },
   {
    "duration": 1217,
    "start_time": "2022-12-09T18:27:35.601Z"
   },
   {
    "duration": 464,
    "start_time": "2022-12-09T18:28:26.180Z"
   },
   {
    "duration": 56,
    "start_time": "2022-12-09T18:43:32.597Z"
   },
   {
    "duration": 72,
    "start_time": "2022-12-09T18:44:13.953Z"
   },
   {
    "duration": 58,
    "start_time": "2022-12-09T18:44:18.285Z"
   },
   {
    "duration": 24,
    "start_time": "2022-12-09T18:44:18.346Z"
   },
   {
    "duration": 5,
    "start_time": "2022-12-09T18:44:18.372Z"
   },
   {
    "duration": 47,
    "start_time": "2022-12-09T18:44:18.380Z"
   },
   {
    "duration": 166,
    "start_time": "2022-12-09T18:44:18.430Z"
   },
   {
    "duration": 0,
    "start_time": "2022-12-09T18:44:18.598Z"
   },
   {
    "duration": 0,
    "start_time": "2022-12-09T18:44:18.599Z"
   },
   {
    "duration": 0,
    "start_time": "2022-12-09T18:44:18.600Z"
   },
   {
    "duration": 0,
    "start_time": "2022-12-09T18:44:18.600Z"
   },
   {
    "duration": 0,
    "start_time": "2022-12-09T18:44:18.601Z"
   },
   {
    "duration": 0,
    "start_time": "2022-12-09T18:44:18.602Z"
   },
   {
    "duration": 0,
    "start_time": "2022-12-09T18:44:18.602Z"
   },
   {
    "duration": 0,
    "start_time": "2022-12-09T18:44:18.678Z"
   },
   {
    "duration": 65,
    "start_time": "2022-12-09T18:45:02.506Z"
   },
   {
    "duration": 83,
    "start_time": "2022-12-09T18:45:10.998Z"
   },
   {
    "duration": 176,
    "start_time": "2022-12-09T18:47:05.103Z"
   },
   {
    "duration": 73,
    "start_time": "2022-12-09T18:47:20.629Z"
   },
   {
    "duration": 22,
    "start_time": "2022-12-09T18:47:20.704Z"
   },
   {
    "duration": 19,
    "start_time": "2022-12-09T18:47:20.728Z"
   },
   {
    "duration": 119,
    "start_time": "2022-12-09T18:47:20.749Z"
   },
   {
    "duration": 208,
    "start_time": "2022-12-09T18:47:20.870Z"
   },
   {
    "duration": 0,
    "start_time": "2022-12-09T18:47:21.081Z"
   },
   {
    "duration": 0,
    "start_time": "2022-12-09T18:47:21.084Z"
   },
   {
    "duration": 0,
    "start_time": "2022-12-09T18:47:21.085Z"
   },
   {
    "duration": 0,
    "start_time": "2022-12-09T18:47:21.087Z"
   },
   {
    "duration": 0,
    "start_time": "2022-12-09T18:47:21.088Z"
   },
   {
    "duration": 0,
    "start_time": "2022-12-09T18:47:21.090Z"
   },
   {
    "duration": 0,
    "start_time": "2022-12-09T18:47:21.092Z"
   },
   {
    "duration": 0,
    "start_time": "2022-12-09T18:47:21.093Z"
   },
   {
    "duration": 4,
    "start_time": "2022-12-09T18:47:54.635Z"
   },
   {
    "duration": 61,
    "start_time": "2022-12-09T18:47:57.529Z"
   },
   {
    "duration": 72,
    "start_time": "2022-12-09T18:48:20.507Z"
   },
   {
    "duration": 34,
    "start_time": "2022-12-09T18:48:35.500Z"
   },
   {
    "duration": 63,
    "start_time": "2022-12-09T18:48:40.813Z"
   },
   {
    "duration": 32,
    "start_time": "2022-12-09T18:48:43.812Z"
   },
   {
    "duration": 783,
    "start_time": "2022-12-09T18:49:38.779Z"
   },
   {
    "duration": 82,
    "start_time": "2022-12-09T18:53:36.494Z"
   },
   {
    "duration": 30,
    "start_time": "2022-12-09T18:53:36.578Z"
   },
   {
    "duration": 7,
    "start_time": "2022-12-09T18:53:36.610Z"
   },
   {
    "duration": 81,
    "start_time": "2022-12-09T18:53:36.619Z"
   },
   {
    "duration": 80,
    "start_time": "2022-12-09T18:53:36.702Z"
   },
   {
    "duration": 247,
    "start_time": "2022-12-09T18:53:36.784Z"
   },
   {
    "duration": 195,
    "start_time": "2022-12-09T18:53:37.033Z"
   },
   {
    "duration": 263,
    "start_time": "2022-12-09T18:53:37.231Z"
   },
   {
    "duration": 306,
    "start_time": "2022-12-09T18:53:37.498Z"
   },
   {
    "duration": 925,
    "start_time": "2022-12-09T18:53:37.807Z"
   },
   {
    "duration": 1348,
    "start_time": "2022-12-09T18:53:38.734Z"
   },
   {
    "duration": 537,
    "start_time": "2022-12-09T18:53:40.085Z"
   },
   {
    "duration": 84,
    "start_time": "2022-12-09T18:53:40.624Z"
   },
   {
    "duration": 2847,
    "start_time": "2022-12-10T17:18:10.525Z"
   },
   {
    "duration": 33,
    "start_time": "2022-12-10T17:18:13.375Z"
   },
   {
    "duration": 7,
    "start_time": "2022-12-10T17:18:13.410Z"
   },
   {
    "duration": 91,
    "start_time": "2022-12-10T17:18:13.419Z"
   },
   {
    "duration": 62,
    "start_time": "2022-12-10T17:18:13.513Z"
   },
   {
    "duration": 194,
    "start_time": "2022-12-10T17:18:13.576Z"
   },
   {
    "duration": 287,
    "start_time": "2022-12-10T17:18:13.777Z"
   },
   {
    "duration": 200,
    "start_time": "2022-12-10T17:18:14.067Z"
   },
   {
    "duration": 341,
    "start_time": "2022-12-10T17:18:14.270Z"
   },
   {
    "duration": 1160,
    "start_time": "2022-12-10T17:18:14.614Z"
   },
   {
    "duration": 1384,
    "start_time": "2022-12-10T17:18:15.777Z"
   },
   {
    "duration": 543,
    "start_time": "2022-12-10T17:18:17.163Z"
   },
   {
    "duration": 81,
    "start_time": "2022-12-10T17:18:17.708Z"
   },
   {
    "duration": 56,
    "start_time": "2022-12-10T18:44:22.231Z"
   },
   {
    "duration": 1675,
    "start_time": "2022-12-10T18:44:25.518Z"
   },
   {
    "duration": 79,
    "start_time": "2022-12-10T18:44:27.196Z"
   },
   {
    "duration": 0,
    "start_time": "2022-12-10T18:44:27.277Z"
   },
   {
    "duration": 0,
    "start_time": "2022-12-10T18:44:27.278Z"
   },
   {
    "duration": 0,
    "start_time": "2022-12-10T18:44:27.280Z"
   },
   {
    "duration": 0,
    "start_time": "2022-12-10T18:44:27.281Z"
   },
   {
    "duration": 0,
    "start_time": "2022-12-10T18:44:27.282Z"
   },
   {
    "duration": 0,
    "start_time": "2022-12-10T18:44:27.284Z"
   },
   {
    "duration": 1,
    "start_time": "2022-12-10T18:44:27.285Z"
   },
   {
    "duration": 0,
    "start_time": "2022-12-10T18:44:27.287Z"
   },
   {
    "duration": 0,
    "start_time": "2022-12-10T18:44:27.288Z"
   },
   {
    "duration": 0,
    "start_time": "2022-12-10T18:44:27.290Z"
   },
   {
    "duration": 0,
    "start_time": "2022-12-10T18:44:27.291Z"
   },
   {
    "duration": 0,
    "start_time": "2022-12-10T18:44:27.292Z"
   },
   {
    "duration": 12,
    "start_time": "2022-12-10T18:44:38.166Z"
   },
   {
    "duration": 17,
    "start_time": "2022-12-10T18:46:43.850Z"
   },
   {
    "duration": 6,
    "start_time": "2022-12-10T18:47:01.577Z"
   },
   {
    "duration": 5,
    "start_time": "2022-12-10T18:47:06.203Z"
   },
   {
    "duration": 5,
    "start_time": "2022-12-10T18:47:17.267Z"
   },
   {
    "duration": 11,
    "start_time": "2022-12-10T18:48:44.729Z"
   },
   {
    "duration": 30,
    "start_time": "2022-12-10T18:49:14.867Z"
   },
   {
    "duration": 44,
    "start_time": "2022-12-10T18:49:50.338Z"
   },
   {
    "duration": 34,
    "start_time": "2022-12-10T18:50:01.326Z"
   },
   {
    "duration": 899,
    "start_time": "2022-12-10T18:58:44.530Z"
   },
   {
    "duration": 15,
    "start_time": "2022-12-10T18:59:09.867Z"
   },
   {
    "duration": 318,
    "start_time": "2022-12-10T18:59:14.580Z"
   },
   {
    "duration": 100,
    "start_time": "2022-12-10T19:01:22.226Z"
   },
   {
    "duration": 10,
    "start_time": "2022-12-10T19:01:22.329Z"
   },
   {
    "duration": 54,
    "start_time": "2022-12-10T19:01:22.341Z"
   },
   {
    "duration": 182,
    "start_time": "2022-12-10T19:01:22.398Z"
   },
   {
    "duration": 58,
    "start_time": "2022-12-10T19:01:22.585Z"
   },
   {
    "duration": 109,
    "start_time": "2022-12-10T19:01:22.645Z"
   },
   {
    "duration": 201,
    "start_time": "2022-12-10T19:01:22.756Z"
   },
   {
    "duration": 299,
    "start_time": "2022-12-10T19:01:22.959Z"
   },
   {
    "duration": 140,
    "start_time": "2022-12-10T19:01:23.268Z"
   },
   {
    "duration": 245,
    "start_time": "2022-12-10T19:01:23.453Z"
   },
   {
    "duration": 1194,
    "start_time": "2022-12-10T19:01:23.700Z"
   },
   {
    "duration": 3304,
    "start_time": "2022-12-10T19:01:24.896Z"
   },
   {
    "duration": 589,
    "start_time": "2022-12-10T19:01:28.202Z"
   },
   {
    "duration": 81,
    "start_time": "2022-12-10T19:01:28.792Z"
   },
   {
    "duration": 197,
    "start_time": "2022-12-10T19:01:32.115Z"
   },
   {
    "duration": 44,
    "start_time": "2022-12-11T13:13:02.479Z"
   },
   {
    "duration": 7,
    "start_time": "2022-12-11T13:13:35.307Z"
   },
   {
    "duration": 1588,
    "start_time": "2022-12-11T13:13:38.895Z"
   },
   {
    "duration": 8,
    "start_time": "2022-12-11T13:13:40.485Z"
   },
   {
    "duration": 30,
    "start_time": "2022-12-11T13:13:40.494Z"
   },
   {
    "duration": 128,
    "start_time": "2022-12-11T13:13:40.526Z"
   },
   {
    "duration": 78,
    "start_time": "2022-12-11T13:13:40.655Z"
   },
   {
    "duration": 0,
    "start_time": "2022-12-11T13:13:40.734Z"
   },
   {
    "duration": 0,
    "start_time": "2022-12-11T13:13:40.735Z"
   },
   {
    "duration": 0,
    "start_time": "2022-12-11T13:13:40.736Z"
   },
   {
    "duration": 0,
    "start_time": "2022-12-11T13:13:40.737Z"
   },
   {
    "duration": 0,
    "start_time": "2022-12-11T13:13:40.738Z"
   },
   {
    "duration": 0,
    "start_time": "2022-12-11T13:13:40.740Z"
   },
   {
    "duration": 0,
    "start_time": "2022-12-11T13:13:40.740Z"
   },
   {
    "duration": 0,
    "start_time": "2022-12-11T13:13:40.742Z"
   },
   {
    "duration": 0,
    "start_time": "2022-12-11T13:13:40.742Z"
   },
   {
    "duration": 0,
    "start_time": "2022-12-11T13:13:40.744Z"
   },
   {
    "duration": 20,
    "start_time": "2022-12-11T13:16:14.954Z"
   },
   {
    "duration": 1749,
    "start_time": "2022-12-11T17:28:53.739Z"
   },
   {
    "duration": 9,
    "start_time": "2022-12-11T17:28:55.490Z"
   },
   {
    "duration": 35,
    "start_time": "2022-12-11T17:28:55.501Z"
   },
   {
    "duration": 153,
    "start_time": "2022-12-11T17:28:55.538Z"
   },
   {
    "duration": 137,
    "start_time": "2022-12-11T17:28:55.692Z"
   },
   {
    "duration": 0,
    "start_time": "2022-12-11T17:28:55.832Z"
   },
   {
    "duration": 0,
    "start_time": "2022-12-11T17:28:55.833Z"
   },
   {
    "duration": 1,
    "start_time": "2022-12-11T17:28:55.834Z"
   },
   {
    "duration": 0,
    "start_time": "2022-12-11T17:28:55.836Z"
   },
   {
    "duration": 0,
    "start_time": "2022-12-11T17:28:55.837Z"
   },
   {
    "duration": 0,
    "start_time": "2022-12-11T17:28:55.838Z"
   },
   {
    "duration": 0,
    "start_time": "2022-12-11T17:28:55.839Z"
   },
   {
    "duration": 0,
    "start_time": "2022-12-11T17:28:55.840Z"
   },
   {
    "duration": 0,
    "start_time": "2022-12-11T17:28:55.842Z"
   },
   {
    "duration": 0,
    "start_time": "2022-12-11T17:28:55.843Z"
   },
   {
    "duration": 14,
    "start_time": "2022-12-11T17:32:54.583Z"
   },
   {
    "duration": 67,
    "start_time": "2022-12-11T17:33:40.765Z"
   },
   {
    "duration": 14,
    "start_time": "2022-12-11T17:33:44.985Z"
   },
   {
    "duration": 13,
    "start_time": "2022-12-11T17:34:43.880Z"
   },
   {
    "duration": 17,
    "start_time": "2022-12-11T17:34:46.316Z"
   },
   {
    "duration": 34,
    "start_time": "2022-12-11T17:34:53.277Z"
   },
   {
    "duration": 11,
    "start_time": "2022-12-11T17:35:03.303Z"
   },
   {
    "duration": 16,
    "start_time": "2022-12-11T17:35:17.454Z"
   },
   {
    "duration": 13,
    "start_time": "2022-12-11T17:35:20.946Z"
   },
   {
    "duration": 11,
    "start_time": "2022-12-11T17:35:23.374Z"
   },
   {
    "duration": 11,
    "start_time": "2022-12-11T17:35:41.357Z"
   },
   {
    "duration": 13,
    "start_time": "2022-12-11T17:35:59.701Z"
   },
   {
    "duration": 12,
    "start_time": "2022-12-11T17:36:06.400Z"
   },
   {
    "duration": 13,
    "start_time": "2022-12-11T17:37:06.764Z"
   },
   {
    "duration": 65,
    "start_time": "2022-12-11T17:37:18.152Z"
   },
   {
    "duration": 11,
    "start_time": "2022-12-11T17:37:23.490Z"
   },
   {
    "duration": 11,
    "start_time": "2022-12-11T17:42:26.502Z"
   },
   {
    "duration": 11,
    "start_time": "2022-12-11T17:42:42.200Z"
   },
   {
    "duration": 15,
    "start_time": "2022-12-11T17:50:43.894Z"
   },
   {
    "duration": 65,
    "start_time": "2022-12-11T18:15:28.520Z"
   },
   {
    "duration": 26,
    "start_time": "2022-12-11T18:16:46.838Z"
   },
   {
    "duration": 10,
    "start_time": "2022-12-11T18:17:44.624Z"
   },
   {
    "duration": 58,
    "start_time": "2022-12-11T18:18:07.773Z"
   },
   {
    "duration": 7,
    "start_time": "2022-12-11T18:18:07.833Z"
   },
   {
    "duration": 25,
    "start_time": "2022-12-11T18:18:07.842Z"
   },
   {
    "duration": 122,
    "start_time": "2022-12-11T18:18:07.869Z"
   },
   {
    "duration": 10,
    "start_time": "2022-12-11T18:18:07.992Z"
   },
   {
    "duration": 13,
    "start_time": "2022-12-11T18:18:08.004Z"
   },
   {
    "duration": 11,
    "start_time": "2022-12-11T18:18:08.018Z"
   },
   {
    "duration": 0,
    "start_time": "2022-12-11T18:18:08.031Z"
   },
   {
    "duration": 0,
    "start_time": "2022-12-11T18:18:08.032Z"
   },
   {
    "duration": 0,
    "start_time": "2022-12-11T18:18:08.034Z"
   },
   {
    "duration": 0,
    "start_time": "2022-12-11T18:18:08.035Z"
   },
   {
    "duration": 0,
    "start_time": "2022-12-11T18:18:08.036Z"
   },
   {
    "duration": 0,
    "start_time": "2022-12-11T18:18:08.037Z"
   },
   {
    "duration": 0,
    "start_time": "2022-12-11T18:18:08.038Z"
   },
   {
    "duration": 1,
    "start_time": "2022-12-11T18:18:08.039Z"
   },
   {
    "duration": 0,
    "start_time": "2022-12-11T18:18:08.040Z"
   },
   {
    "duration": 25,
    "start_time": "2022-12-11T18:20:12.317Z"
   },
   {
    "duration": 22,
    "start_time": "2022-12-11T18:21:04.218Z"
   },
   {
    "duration": 27,
    "start_time": "2022-12-11T18:21:20.307Z"
   },
   {
    "duration": 20,
    "start_time": "2022-12-11T18:21:25.642Z"
   },
   {
    "duration": 12,
    "start_time": "2022-12-11T18:22:05.224Z"
   },
   {
    "duration": 15,
    "start_time": "2022-12-11T18:22:12.266Z"
   },
   {
    "duration": 23,
    "start_time": "2022-12-11T18:22:37.647Z"
   },
   {
    "duration": 25,
    "start_time": "2022-12-11T18:22:51.835Z"
   },
   {
    "duration": 60,
    "start_time": "2022-12-11T18:25:24.519Z"
   },
   {
    "duration": 90,
    "start_time": "2022-12-11T18:25:52.090Z"
   },
   {
    "duration": 85,
    "start_time": "2022-12-11T18:26:13.694Z"
   },
   {
    "duration": 795,
    "start_time": "2022-12-11T18:27:47.058Z"
   },
   {
    "duration": 35,
    "start_time": "2022-12-11T18:29:35.067Z"
   },
   {
    "duration": 53,
    "start_time": "2022-12-11T18:31:17.269Z"
   },
   {
    "duration": 57,
    "start_time": "2022-12-11T18:31:25.205Z"
   },
   {
    "duration": 106,
    "start_time": "2022-12-11T18:32:02.675Z"
   },
   {
    "duration": 958,
    "start_time": "2022-12-11T18:33:22.294Z"
   },
   {
    "duration": 103,
    "start_time": "2022-12-11T18:35:54.921Z"
   },
   {
    "duration": 95,
    "start_time": "2022-12-11T18:36:33.414Z"
   },
   {
    "duration": 116,
    "start_time": "2022-12-11T18:41:24.462Z"
   },
   {
    "duration": 93,
    "start_time": "2022-12-11T18:41:28.993Z"
   },
   {
    "duration": 77,
    "start_time": "2022-12-11T18:41:37.803Z"
   },
   {
    "duration": 79,
    "start_time": "2022-12-11T18:41:40.700Z"
   },
   {
    "duration": 34,
    "start_time": "2022-12-11T18:41:43.546Z"
   },
   {
    "duration": 60,
    "start_time": "2022-12-11T18:41:47.521Z"
   },
   {
    "duration": 405,
    "start_time": "2022-12-11T18:42:49.741Z"
   },
   {
    "duration": 54,
    "start_time": "2022-12-11T18:43:35.398Z"
   },
   {
    "duration": 205,
    "start_time": "2022-12-11T18:43:39.052Z"
   },
   {
    "duration": 591,
    "start_time": "2022-12-11T18:43:42.440Z"
   },
   {
    "duration": 448,
    "start_time": "2022-12-11T18:43:45.726Z"
   },
   {
    "duration": 796,
    "start_time": "2022-12-11T18:43:50.880Z"
   },
   {
    "duration": 662,
    "start_time": "2022-12-11T18:43:55.832Z"
   },
   {
    "duration": 426,
    "start_time": "2022-12-11T18:44:00.615Z"
   },
   {
    "duration": 35,
    "start_time": "2022-12-11T18:44:05.298Z"
   },
   {
    "duration": 9890,
    "start_time": "2022-12-11T18:44:10.045Z"
   },
   {
    "duration": 420,
    "start_time": "2022-12-11T18:44:22.704Z"
   },
   {
    "duration": 2,
    "start_time": "2022-12-11T18:48:08.389Z"
   },
   {
    "duration": 110,
    "start_time": "2022-12-11T18:51:05.465Z"
   },
   {
    "duration": 1383,
    "start_time": "2022-12-11T18:51:08.712Z"
   },
   {
    "duration": 2757,
    "start_time": "2022-12-11T18:51:16.905Z"
   },
   {
    "duration": 4849,
    "start_time": "2022-12-11T18:52:44.584Z"
   },
   {
    "duration": 5144,
    "start_time": "2022-12-11T18:54:23.055Z"
   },
   {
    "duration": 1006,
    "start_time": "2022-12-11T18:54:36.584Z"
   },
   {
    "duration": 118,
    "start_time": "2022-12-11T18:54:44.167Z"
   },
   {
    "duration": 402,
    "start_time": "2022-12-11T18:54:59.331Z"
   },
   {
    "duration": 907,
    "start_time": "2022-12-11T18:56:59.964Z"
   },
   {
    "duration": 944,
    "start_time": "2022-12-11T18:57:04.595Z"
   },
   {
    "duration": 8878,
    "start_time": "2022-12-11T18:57:08.275Z"
   },
   {
    "duration": 46912,
    "start_time": "2022-12-11T18:57:21.538Z"
   },
   {
    "duration": 84,
    "start_time": "2022-12-11T18:58:39.498Z"
   },
   {
    "duration": 370,
    "start_time": "2022-12-11T18:58:41.970Z"
   },
   {
    "duration": 48,
    "start_time": "2022-12-11T18:58:48.430Z"
   },
   {
    "duration": 446,
    "start_time": "2022-12-11T18:58:50.490Z"
   },
   {
    "duration": 32,
    "start_time": "2022-12-11T18:58:55.417Z"
   },
   {
    "duration": 507,
    "start_time": "2022-12-11T18:58:57.713Z"
   },
   {
    "duration": 991,
    "start_time": "2022-12-11T18:59:15.210Z"
   },
   {
    "duration": 1459,
    "start_time": "2022-12-11T18:59:20.068Z"
   },
   {
    "duration": 1094,
    "start_time": "2022-12-11T18:59:26.252Z"
   },
   {
    "duration": 1941,
    "start_time": "2022-12-11T18:59:31.580Z"
   },
   {
    "duration": 2452,
    "start_time": "2022-12-11T18:59:36.788Z"
   },
   {
    "duration": 2011,
    "start_time": "2022-12-11T18:59:42.697Z"
   },
   {
    "duration": 1788,
    "start_time": "2022-12-11T18:59:57.205Z"
   },
   {
    "duration": 1858,
    "start_time": "2022-12-11T19:00:13.941Z"
   },
   {
    "duration": 56,
    "start_time": "2022-12-11T19:00:22.090Z"
   },
   {
    "duration": 7,
    "start_time": "2022-12-11T19:00:22.148Z"
   },
   {
    "duration": 25,
    "start_time": "2022-12-11T19:00:22.157Z"
   },
   {
    "duration": 125,
    "start_time": "2022-12-11T19:00:22.184Z"
   },
   {
    "duration": 25,
    "start_time": "2022-12-11T19:00:22.311Z"
   },
   {
    "duration": 11,
    "start_time": "2022-12-11T19:00:22.339Z"
   },
   {
    "duration": 24,
    "start_time": "2022-12-11T19:00:22.377Z"
   },
   {
    "duration": 79,
    "start_time": "2022-12-11T19:00:22.403Z"
   },
   {
    "duration": 805,
    "start_time": "2022-12-11T19:00:22.483Z"
   },
   {
    "duration": 90,
    "start_time": "2022-12-11T19:00:23.290Z"
   },
   {
    "duration": 195,
    "start_time": "2022-12-11T19:00:23.384Z"
   },
   {
    "duration": 5147,
    "start_time": "2022-12-11T19:00:23.581Z"
   },
   {
    "duration": 56,
    "start_time": "2022-12-11T19:00:28.730Z"
   },
   {
    "duration": 2217,
    "start_time": "2022-12-11T19:00:28.788Z"
   },
   {
    "duration": 254,
    "start_time": "2022-12-11T19:00:31.007Z"
   },
   {
    "duration": 3,
    "start_time": "2022-12-11T19:00:31.263Z"
   },
   {
    "duration": 25,
    "start_time": "2022-12-11T19:00:31.278Z"
   },
   {
    "duration": 65,
    "start_time": "2022-12-11T19:00:31.305Z"
   },
   {
    "duration": 33,
    "start_time": "2022-12-11T19:00:31.373Z"
   },
   {
    "duration": 1777,
    "start_time": "2022-12-11T19:00:31.408Z"
   },
   {
    "duration": 186,
    "start_time": "2022-12-11T19:00:33.186Z"
   },
   {
    "duration": 4904,
    "start_time": "2022-12-11T19:01:27.207Z"
   },
   {
    "duration": 3752,
    "start_time": "2022-12-11T19:01:35.907Z"
   },
   {
    "duration": 383,
    "start_time": "2022-12-11T19:01:44.256Z"
   },
   {
    "duration": 473,
    "start_time": "2022-12-11T19:01:49.322Z"
   },
   {
    "duration": 69,
    "start_time": "2022-12-11T19:01:52.823Z"
   },
   {
    "duration": 113,
    "start_time": "2022-12-11T19:01:56.737Z"
   },
   {
    "duration": 1101,
    "start_time": "2022-12-11T19:02:02.547Z"
   },
   {
    "duration": 2091,
    "start_time": "2022-12-11T19:02:08.787Z"
   },
   {
    "duration": 3111,
    "start_time": "2022-12-11T19:02:15.278Z"
   },
   {
    "duration": 4583,
    "start_time": "2022-12-11T19:02:25.795Z"
   },
   {
    "duration": 3055,
    "start_time": "2022-12-11T19:02:34.431Z"
   },
   {
    "duration": 1999,
    "start_time": "2022-12-11T19:02:41.663Z"
   },
   {
    "duration": 1766,
    "start_time": "2022-12-11T19:02:49.888Z"
   },
   {
    "duration": 2043,
    "start_time": "2022-12-11T19:02:55.840Z"
   },
   {
    "duration": 1731,
    "start_time": "2022-12-11T19:03:01.344Z"
   },
   {
    "duration": 1816,
    "start_time": "2022-12-11T19:03:06.585Z"
   },
   {
    "duration": 1850,
    "start_time": "2022-12-11T19:03:12.356Z"
   },
   {
    "duration": 64,
    "start_time": "2022-12-11T19:03:16.919Z"
   },
   {
    "duration": 1788,
    "start_time": "2022-12-11T19:03:19.557Z"
   },
   {
    "duration": 1931,
    "start_time": "2022-12-11T19:03:24.519Z"
   },
   {
    "duration": 1769,
    "start_time": "2022-12-11T19:03:29.293Z"
   },
   {
    "duration": 1785,
    "start_time": "2022-12-11T19:03:43.760Z"
   },
   {
    "duration": 1890,
    "start_time": "2022-12-11T19:03:55.188Z"
   },
   {
    "duration": 1873,
    "start_time": "2022-12-11T19:04:04.407Z"
   },
   {
    "duration": 14,
    "start_time": "2022-12-11T19:07:04.513Z"
   },
   {
    "duration": 97,
    "start_time": "2022-12-11T19:07:34.380Z"
   },
   {
    "duration": 42,
    "start_time": "2022-12-11T19:07:48.616Z"
   },
   {
    "duration": 26,
    "start_time": "2022-12-11T19:07:58.371Z"
   },
   {
    "duration": 27,
    "start_time": "2022-12-11T19:11:45.327Z"
   },
   {
    "duration": 55,
    "start_time": "2022-12-11T19:11:49.662Z"
   },
   {
    "duration": 8,
    "start_time": "2022-12-11T19:11:49.719Z"
   },
   {
    "duration": 56,
    "start_time": "2022-12-11T19:11:49.729Z"
   },
   {
    "duration": 141,
    "start_time": "2022-12-11T19:11:49.787Z"
   },
   {
    "duration": 27,
    "start_time": "2022-12-11T19:11:49.929Z"
   },
   {
    "duration": 30,
    "start_time": "2022-12-11T19:11:49.957Z"
   },
   {
    "duration": 27,
    "start_time": "2022-12-11T19:11:49.989Z"
   },
   {
    "duration": 64,
    "start_time": "2022-12-11T19:11:50.018Z"
   },
   {
    "duration": 859,
    "start_time": "2022-12-11T19:11:50.084Z"
   },
   {
    "duration": 135,
    "start_time": "2022-12-11T19:11:50.946Z"
   },
   {
    "duration": 195,
    "start_time": "2022-12-11T19:11:51.083Z"
   },
   {
    "duration": 1820,
    "start_time": "2022-12-11T19:11:51.280Z"
   },
   {
    "duration": 82,
    "start_time": "2022-12-11T19:11:53.102Z"
   },
   {
    "duration": 2708,
    "start_time": "2022-12-11T19:11:53.186Z"
   },
   {
    "duration": 424,
    "start_time": "2022-12-11T19:11:55.896Z"
   },
   {
    "duration": 56,
    "start_time": "2022-12-11T19:11:56.322Z"
   },
   {
    "duration": 5,
    "start_time": "2022-12-11T19:11:56.380Z"
   },
   {
    "duration": 5,
    "start_time": "2022-12-11T19:11:56.387Z"
   },
   {
    "duration": 4,
    "start_time": "2022-12-11T19:11:56.394Z"
   },
   {
    "duration": 1971,
    "start_time": "2022-12-11T19:11:56.400Z"
   },
   {
    "duration": 31,
    "start_time": "2022-12-11T19:12:34.895Z"
   },
   {
    "duration": 1560,
    "start_time": "2022-12-11T19:12:38.820Z"
   },
   {
    "duration": 1735,
    "start_time": "2022-12-11T19:12:45.088Z"
   },
   {
    "duration": 1850,
    "start_time": "2022-12-11T19:13:40.771Z"
   },
   {
    "duration": 72,
    "start_time": "2022-12-11T19:13:59.811Z"
   },
   {
    "duration": 68,
    "start_time": "2022-12-11T19:14:02.713Z"
   },
   {
    "duration": 394,
    "start_time": "2022-12-11T19:14:05.298Z"
   },
   {
    "duration": 1579,
    "start_time": "2022-12-11T19:14:12.040Z"
   },
   {
    "duration": 399,
    "start_time": "2022-12-11T19:14:16.716Z"
   },
   {
    "duration": 1737,
    "start_time": "2022-12-11T19:14:28.392Z"
   },
   {
    "duration": 1941,
    "start_time": "2022-12-11T19:14:46.864Z"
   },
   {
    "duration": 62,
    "start_time": "2022-12-11T19:15:59.711Z"
   },
   {
    "duration": 11,
    "start_time": "2022-12-11T19:15:59.776Z"
   },
   {
    "duration": 32,
    "start_time": "2022-12-11T19:15:59.789Z"
   },
   {
    "duration": 168,
    "start_time": "2022-12-11T19:15:59.823Z"
   },
   {
    "duration": 32,
    "start_time": "2022-12-11T19:15:59.993Z"
   },
   {
    "duration": 13,
    "start_time": "2022-12-11T19:16:00.027Z"
   },
   {
    "duration": 56,
    "start_time": "2022-12-11T19:16:00.041Z"
   },
   {
    "duration": 80,
    "start_time": "2022-12-11T19:16:00.099Z"
   },
   {
    "duration": 848,
    "start_time": "2022-12-11T19:16:00.181Z"
   },
   {
    "duration": 53,
    "start_time": "2022-12-11T19:16:01.032Z"
   },
   {
    "duration": 200,
    "start_time": "2022-12-11T19:16:01.179Z"
   },
   {
    "duration": 1895,
    "start_time": "2022-12-11T19:16:01.380Z"
   },
   {
    "duration": 110,
    "start_time": "2022-12-11T19:16:03.277Z"
   },
   {
    "duration": 1819,
    "start_time": "2022-12-11T19:16:03.390Z"
   },
   {
    "duration": 218,
    "start_time": "2022-12-11T19:16:05.211Z"
   },
   {
    "duration": 3,
    "start_time": "2022-12-11T19:16:05.431Z"
   },
   {
    "duration": 23,
    "start_time": "2022-12-11T19:16:05.436Z"
   },
   {
    "duration": 21,
    "start_time": "2022-12-11T19:16:05.461Z"
   },
   {
    "duration": 1879,
    "start_time": "2022-12-11T19:16:05.484Z"
   },
   {
    "duration": 1836,
    "start_time": "2023-02-24T17:23:03.437Z"
   },
   {
    "duration": 10,
    "start_time": "2023-02-24T17:23:05.275Z"
   },
   {
    "duration": 38,
    "start_time": "2023-02-24T17:23:05.287Z"
   },
   {
    "duration": 149,
    "start_time": "2023-02-24T17:23:05.328Z"
   },
   {
    "duration": 36,
    "start_time": "2023-02-24T17:23:05.480Z"
   },
   {
    "duration": 20,
    "start_time": "2023-02-24T17:23:05.518Z"
   },
   {
    "duration": 31,
    "start_time": "2023-02-24T17:23:05.540Z"
   },
   {
    "duration": 62,
    "start_time": "2023-02-24T17:23:05.573Z"
   },
   {
    "duration": 133,
    "start_time": "2023-02-24T17:23:05.693Z"
   },
   {
    "duration": 172,
    "start_time": "2023-02-24T17:23:05.828Z"
   },
   {
    "duration": 198,
    "start_time": "2023-02-24T17:23:06.006Z"
   },
   {
    "duration": 2078,
    "start_time": "2023-02-24T17:23:06.205Z"
   },
   {
    "duration": 115,
    "start_time": "2023-02-24T17:23:08.284Z"
   },
   {
    "duration": 1830,
    "start_time": "2023-02-24T17:23:08.402Z"
   },
   {
    "duration": 231,
    "start_time": "2023-02-24T17:23:10.234Z"
   },
   {
    "duration": 3,
    "start_time": "2023-02-24T17:23:10.467Z"
   },
   {
    "duration": 12,
    "start_time": "2023-02-24T17:23:10.472Z"
   },
   {
    "duration": 10,
    "start_time": "2023-02-24T17:23:10.486Z"
   },
   {
    "duration": 1930,
    "start_time": "2023-02-24T17:23:10.502Z"
   }
  ],
  "kernelspec": {
   "display_name": "Python 3 (ipykernel)",
   "language": "python",
   "name": "python3"
  },
  "language_info": {
   "codemirror_mode": {
    "name": "ipython",
    "version": 3
   },
   "file_extension": ".py",
   "mimetype": "text/x-python",
   "name": "python",
   "nbconvert_exporter": "python",
   "pygments_lexer": "ipython3",
   "version": "3.9.13"
  },
  "toc": {
   "base_numbering": 1,
   "nav_menu": {},
   "number_sections": true,
   "sideBar": true,
   "skip_h1_title": true,
   "title_cell": "Содержание",
   "title_sidebar": "Contents",
   "toc_cell": true,
   "toc_position": {
    "height": "calc(100% - 180px)",
    "left": "10px",
    "top": "150px",
    "width": "263.85px"
   },
   "toc_section_display": true,
   "toc_window_display": true
  }
 },
 "nbformat": 4,
 "nbformat_minor": 2
}
